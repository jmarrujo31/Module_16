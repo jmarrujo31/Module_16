{
  "nbformat": 4,
  "nbformat_minor": 0,
  "metadata": {
    "colab": {
      "name": "demographics.ipynb",
      "provenance": [],
      "collapsed_sections": []
    },
    "kernelspec": {
      "display_name": "Python 3",
      "language": "python",
      "name": "python3"
    },
    "language_info": {
      "codemirror_mode": {
        "name": "ipython",
        "version": 3
      },
      "file_extension": ".py",
      "mimetype": "text/x-python",
      "name": "python",
      "nbconvert_exporter": "python",
      "pygments_lexer": "ipython3",
      "version": "3.8.3"
    },
    "latex_envs": {
      "LaTeX_envs_menu_present": true,
      "autoclose": false,
      "autocomplete": true,
      "bibliofile": "biblio.bib",
      "cite_by": "apalike",
      "current_citInitial": 1,
      "eqLabelWithNumbers": true,
      "eqNumInitial": 1,
      "hotkeys": {
        "equation": "Ctrl-E",
        "itemize": "Ctrl-I"
      },
      "labels_anchors": false,
      "latex_user_defs": false,
      "report_style_numbering": false,
      "user_envs_cfg": false
    }
  },
  "cells": [
    {
      "cell_type": "code",
      "metadata": {
        "colab": {
          "base_uri": "https://localhost:8080/"
        },
        "id": "poHAnPg7ZPom",
        "outputId": "34a9b19e-66ca-475b-bf66-1a087b9a06fb"
      },
      "source": [
        "import os\n",
        "# Find the latest version of spark 3.0  from http://www.apache.org/dist/spark/ and enter as the spark version\n",
        "# For example:\n",
        "# spark_version = 'spark-3.0.3'\n",
        "spark_version = 'spark-3.2.0'\n",
        "os.environ['SPARK_VERSION']=spark_version\n",
        "# Install Spark and Java\n",
        "!apt-get update\n",
        "!apt-get install openjdk-11-jdk-headless -qq > /dev/null\n",
        "!wget -q http://www.apache.org/dist/spark/$SPARK_VERSION/$SPARK_VERSION-bin-hadoop2.7.tgz\n",
        "!tar xf $SPARK_VERSION-bin-hadoop2.7.tgz\n",
        "!pip install -q findspark\n",
        "# Set Environment Variables\n",
        "import os\n",
        "os.environ[\"JAVA_HOME\"] = \"/usr/lib/jvm/java-11-openjdk-amd64\"\n",
        "os.environ[\"SPARK_HOME\"] = f\"/content/{spark_version}-bin-hadoop2.7\"\n",
        "# Start a SparkSession\n",
        "import findspark\n",
        "findspark.init()"
      ],
      "execution_count": 1,
      "outputs": [
        {
          "output_type": "stream",
          "name": "stdout",
          "text": [
            "\r0% [Working]\r            \rGet:1 https://cloud.r-project.org/bin/linux/ubuntu bionic-cran40/ InRelease [3,626 B]\n",
            "Ign:2 https://developer.download.nvidia.com/compute/cuda/repos/ubuntu1804/x86_64  InRelease\n",
            "Get:3 http://ppa.launchpad.net/c2d4u.team/c2d4u4.0+/ubuntu bionic InRelease [15.9 kB]\n",
            "Hit:4 http://archive.ubuntu.com/ubuntu bionic InRelease\n",
            "Get:5 http://security.ubuntu.com/ubuntu bionic-security InRelease [88.7 kB]\n",
            "Ign:6 https://developer.download.nvidia.com/compute/machine-learning/repos/ubuntu1804/x86_64  InRelease\n",
            "Get:7 https://developer.download.nvidia.com/compute/cuda/repos/ubuntu1804/x86_64  Release [696 B]\n",
            "Hit:8 https://developer.download.nvidia.com/compute/machine-learning/repos/ubuntu1804/x86_64  Release\n",
            "Get:9 https://developer.download.nvidia.com/compute/cuda/repos/ubuntu1804/x86_64  Release.gpg [836 B]\n",
            "Get:10 http://archive.ubuntu.com/ubuntu bionic-updates InRelease [88.7 kB]\n",
            "Hit:11 http://ppa.launchpad.net/cran/libgit2/ubuntu bionic InRelease\n",
            "Get:12 http://archive.ubuntu.com/ubuntu bionic-backports InRelease [74.6 kB]\n",
            "Hit:13 http://ppa.launchpad.net/deadsnakes/ppa/ubuntu bionic InRelease\n",
            "Hit:14 http://ppa.launchpad.net/graphics-drivers/ppa/ubuntu bionic InRelease\n",
            "Get:16 http://ppa.launchpad.net/c2d4u.team/c2d4u4.0+/ubuntu bionic/main Sources [1,813 kB]\n",
            "Get:17 https://developer.download.nvidia.com/compute/cuda/repos/ubuntu1804/x86_64  Packages [829 kB]\n",
            "Get:18 http://ppa.launchpad.net/c2d4u.team/c2d4u4.0+/ubuntu bionic/main amd64 Packages [930 kB]\n",
            "Get:19 http://security.ubuntu.com/ubuntu bionic-security/universe amd64 Packages [1,444 kB]\n",
            "Get:20 http://security.ubuntu.com/ubuntu bionic-security/main amd64 Packages [2,450 kB]\n",
            "Get:21 http://security.ubuntu.com/ubuntu bionic-security/restricted amd64 Packages [687 kB]\n",
            "Get:22 http://archive.ubuntu.com/ubuntu bionic-updates/universe amd64 Packages [2,225 kB]\n",
            "Get:23 http://archive.ubuntu.com/ubuntu bionic-updates/restricted amd64 Packages [721 kB]\n",
            "Get:24 http://archive.ubuntu.com/ubuntu bionic-updates/main amd64 Packages [2,894 kB]\n",
            "Fetched 14.3 MB in 5s (2,955 kB/s)\n",
            "Reading package lists... Done\n"
          ]
        }
      ]
    },
    {
      "cell_type": "code",
      "metadata": {
        "id": "1eBM5XS_HQfS"
      },
      "source": [
        "# Start Spark session\n",
        "from pyspark.sql import SparkSession\n",
        "spark = SparkSession.builder.appName(\"Demographics\").getOrCreate()"
      ],
      "execution_count": 2,
      "outputs": []
    },
    {
      "cell_type": "code",
      "metadata": {
        "colab": {
          "base_uri": "https://localhost:8080/"
        },
        "id": "HT_VAZmzZGqe",
        "outputId": "4c1fe2c0-5087-482f-9c39-3200d2057049"
      },
      "source": [
        "# Read in data from S3 Buckets\n",
        "from pyspark import SparkFiles\n",
        "url = \"https://s3.amazonaws.com/dataviz-curriculum/day_1/demographics.csv\"\n",
        "spark.sparkContext.addFile(url)\n",
        "df = spark.read.csv(SparkFiles.get(\"demographics.csv\"), sep=\",\", header=True)\n",
        "\n",
        "# Show DataFrame\n",
        "df.show()"
      ],
      "execution_count": null,
      "outputs": [
        {
          "output_type": "stream",
          "name": "stdout",
          "text": [
            "+---+--------------------+---+------------+---------+--------+------------------+---------------+------+-------------+\n",
            "| id|                name|age|height_meter|weight_kg|children|        occupation|academic_degree|salary|     location|\n",
            "+---+--------------------+---+------------+---------+--------+------------------+---------------+------+-------------+\n",
            "|  0|       Darlena Avila| 58|        1.87|       53|       1|     Choreographer|            PhD|    68| South Dakota|\n",
            "|  1|            Yan Boyd| 65|         1.8|       40|       0|         Cellarman|       Bachelor|    73|     Delaware|\n",
            "|  2|         Joette Lane| 32|         1.8|       73|       1|Veterinary Surgeon|         Master|    69| South Dakota|\n",
            "|  3|        Jazmine Hunt| 61|        1.79|       89|       0|            Hawker|            PhD|    88|    Louisiana|\n",
            "|  4|      Remedios Gomez| 23|        1.64|       51|       2|     Choreographer|       Bachelor|    83|West Virginia|\n",
            "|  5|        Myung Brewer| 20|        1.68|       60|       4|    Window Dresser|       Bachelor|    65| South Dakota|\n",
            "|  6|         Shaun Lynch| 31|        1.56|       62|       0|            Weaver|         Master|    72|    Louisiana|\n",
            "|  7|     Melodi Mcdowell| 56|         1.6|       42|       0| Lighthouse Keeper|         Master|    65|    Louisiana|\n",
            "|  8|Charlesetta Steve...| 30|        1.62|       44|       3|        Millwright|         Master|    87|    Louisiana|\n",
            "|  9|       Merri Charles| 44|        1.69|       51|       5|  Medical Supplier|            PhD|    72|West Virginia|\n",
            "| 10|        Cassi Meyers| 55|        1.82|       72|       5|        Manicurist|       Bachelor|    73| South Dakota|\n",
            "| 11|      Shawnee Harmon| 66|        1.63|       78|       5| Medical Physicist|            PhD|    90|     Delaware|\n",
            "| 12|       Lyndia Spears| 62|        1.88|       41|       1|         Assistant|         Master|    78|       Alaska|\n",
            "| 13|          Page Evans| 35|        1.53|       74|       5|         Paramedic|       Bachelor|    69|     Delaware|\n",
            "| 14|        Telma Hebert| 66|        1.94|       79|       3|       Genealogist|         Master|    75| South Dakota|\n",
            "| 15|      Edelmira Drake| 23|        1.87|       72|       2|           Servant|            PhD|    77| South Dakota|\n",
            "| 16|       Oscar Guthrie| 40|        1.61|       46|       4| Technical Liaison|       Bachelor|    76|    Louisiana|\n",
            "| 17|   Bernardina Strong| 34|        1.55|       78|       1|         Scientist|            PhD|    90| South Dakota|\n",
            "| 18|        Caprice Hart| 64|        1.69|       67|       4|   Market Research|            PhD|    79|    Louisiana|\n",
            "| 19|         Alleen Pace| 25|        1.86|       81|       4|  Medical Supplier|            PhD|    77| South Dakota|\n",
            "+---+--------------------+---+------------+---------+--------+------------------+---------------+------+-------------+\n",
            "only showing top 20 rows\n",
            "\n"
          ]
        }
      ]
    },
    {
      "cell_type": "code",
      "metadata": {
        "colab": {
          "base_uri": "https://localhost:8080/"
        },
        "id": "vuhd0Jz_ZTbO",
        "outputId": "8a57584f-bff6-48e7-f962-8e2eca42560a"
      },
      "source": [
        "# Print the column names\n",
        "df.columns"
      ],
      "execution_count": null,
      "outputs": [
        {
          "output_type": "execute_result",
          "data": {
            "text/plain": [
              "['id',\n",
              " 'name',\n",
              " 'age',\n",
              " 'height_meter',\n",
              " 'weight_kg',\n",
              " 'children',\n",
              " 'occupation',\n",
              " 'academic_degree',\n",
              " 'salary',\n",
              " 'location']"
            ]
          },
          "metadata": {},
          "execution_count": 12
        }
      ]
    },
    {
      "cell_type": "code",
      "metadata": {
        "colab": {
          "base_uri": "https://localhost:8080/"
        },
        "id": "dn0OANoaZWjU",
        "outputId": "990b6962-8871-4797-80ee-fb2ca2feb409"
      },
      "source": [
        "# Print out the first 10 rows\n",
        "df.show(10)"
      ],
      "execution_count": null,
      "outputs": [
        {
          "output_type": "stream",
          "name": "stdout",
          "text": [
            "+---+--------------------+---+------------+---------+--------+------------------+---------------+------+-------------+\n",
            "| id|                name|age|height_meter|weight_kg|children|        occupation|academic_degree|salary|     location|\n",
            "+---+--------------------+---+------------+---------+--------+------------------+---------------+------+-------------+\n",
            "|  0|       Darlena Avila| 58|        1.87|       53|       1|     Choreographer|            PhD|    68| South Dakota|\n",
            "|  1|            Yan Boyd| 65|         1.8|       40|       0|         Cellarman|       Bachelor|    73|     Delaware|\n",
            "|  2|         Joette Lane| 32|         1.8|       73|       1|Veterinary Surgeon|         Master|    69| South Dakota|\n",
            "|  3|        Jazmine Hunt| 61|        1.79|       89|       0|            Hawker|            PhD|    88|    Louisiana|\n",
            "|  4|      Remedios Gomez| 23|        1.64|       51|       2|     Choreographer|       Bachelor|    83|West Virginia|\n",
            "|  5|        Myung Brewer| 20|        1.68|       60|       4|    Window Dresser|       Bachelor|    65| South Dakota|\n",
            "|  6|         Shaun Lynch| 31|        1.56|       62|       0|            Weaver|         Master|    72|    Louisiana|\n",
            "|  7|     Melodi Mcdowell| 56|         1.6|       42|       0| Lighthouse Keeper|         Master|    65|    Louisiana|\n",
            "|  8|Charlesetta Steve...| 30|        1.62|       44|       3|        Millwright|         Master|    87|    Louisiana|\n",
            "|  9|       Merri Charles| 44|        1.69|       51|       5|  Medical Supplier|            PhD|    72|West Virginia|\n",
            "+---+--------------------+---+------------+---------+--------+------------------+---------------+------+-------------+\n",
            "only showing top 10 rows\n",
            "\n"
          ]
        }
      ]
    },
    {
      "cell_type": "code",
      "metadata": {
        "colab": {
          "base_uri": "https://localhost:8080/"
        },
        "id": "8QzpRD8dZdsD",
        "outputId": "75a9c38c-6fd5-4c9c-ef4c-b60c02c7b036"
      },
      "source": [
        "# Select the age, height_meter, and weight_kg columns and use describe to show the summary statistics\n",
        "df['age','height_meter','weight_kg'].summary().show()\n"
      ],
      "execution_count": null,
      "outputs": [
        {
          "output_type": "stream",
          "name": "stdout",
          "text": [
            "+-------+------------------+------------------+------------------+\n",
            "|summary|               age|      height_meter|         weight_kg|\n",
            "+-------+------------------+------------------+------------------+\n",
            "|  count|              1000|              1000|              1000|\n",
            "|   mean|            42.933|1.7519499999999995|            64.011|\n",
            "| stddev|14.255445581556843|0.1436897499623555|15.005733939099779|\n",
            "|    min|                18|               1.5|                38|\n",
            "|    25%|              31.0|              1.63|              51.0|\n",
            "|    50%|              43.0|              1.75|              64.0|\n",
            "|    75%|              56.0|              1.87|              77.0|\n",
            "|    max|                67|                 2|                90|\n",
            "+-------+------------------+------------------+------------------+\n",
            "\n"
          ]
        }
      ]
    },
    {
      "cell_type": "code",
      "metadata": {
        "colab": {
          "base_uri": "https://localhost:8080/"
        },
        "id": "ULIuI1pNZfws",
        "outputId": "4482f4c9-11c6-443d-8253-76a2b11780c6"
      },
      "source": [
        "# Print the schema to see the types\n",
        "df.printSchema()"
      ],
      "execution_count": null,
      "outputs": [
        {
          "output_type": "stream",
          "name": "stdout",
          "text": [
            "root\n",
            " |-- id: string (nullable = true)\n",
            " |-- name: string (nullable = true)\n",
            " |-- age: string (nullable = true)\n",
            " |-- height_meter: string (nullable = true)\n",
            " |-- weight_kg: string (nullable = true)\n",
            " |-- children: string (nullable = true)\n",
            " |-- occupation: string (nullable = true)\n",
            " |-- academic_degree: string (nullable = true)\n",
            " |-- salary: string (nullable = true)\n",
            " |-- location: string (nullable = true)\n",
            "\n"
          ]
        }
      ]
    },
    {
      "cell_type": "code",
      "metadata": {
        "colab": {
          "base_uri": "https://localhost:8080/"
        },
        "id": "iuFP8TEZZhfb",
        "outputId": "d4f7cb84-162a-4f7f-ed1a-1a5eae2ac361"
      },
      "source": [
        "# Rename the Salary column to `Salary (1k)` and show only this new column\n",
        "df.withColumnRenamed('salary','Salary (1k)').show()"
      ],
      "execution_count": null,
      "outputs": [
        {
          "output_type": "stream",
          "name": "stdout",
          "text": [
            "+---+--------------------+---+------------+---------+--------+------------------+---------------+-----------+-------------+\n",
            "| id|                name|age|height_meter|weight_kg|children|        occupation|academic_degree|Salary (1k)|     location|\n",
            "+---+--------------------+---+------------+---------+--------+------------------+---------------+-----------+-------------+\n",
            "|  0|       Darlena Avila| 58|        1.87|       53|       1|     Choreographer|            PhD|         68| South Dakota|\n",
            "|  1|            Yan Boyd| 65|         1.8|       40|       0|         Cellarman|       Bachelor|         73|     Delaware|\n",
            "|  2|         Joette Lane| 32|         1.8|       73|       1|Veterinary Surgeon|         Master|         69| South Dakota|\n",
            "|  3|        Jazmine Hunt| 61|        1.79|       89|       0|            Hawker|            PhD|         88|    Louisiana|\n",
            "|  4|      Remedios Gomez| 23|        1.64|       51|       2|     Choreographer|       Bachelor|         83|West Virginia|\n",
            "|  5|        Myung Brewer| 20|        1.68|       60|       4|    Window Dresser|       Bachelor|         65| South Dakota|\n",
            "|  6|         Shaun Lynch| 31|        1.56|       62|       0|            Weaver|         Master|         72|    Louisiana|\n",
            "|  7|     Melodi Mcdowell| 56|         1.6|       42|       0| Lighthouse Keeper|         Master|         65|    Louisiana|\n",
            "|  8|Charlesetta Steve...| 30|        1.62|       44|       3|        Millwright|         Master|         87|    Louisiana|\n",
            "|  9|       Merri Charles| 44|        1.69|       51|       5|  Medical Supplier|            PhD|         72|West Virginia|\n",
            "| 10|        Cassi Meyers| 55|        1.82|       72|       5|        Manicurist|       Bachelor|         73| South Dakota|\n",
            "| 11|      Shawnee Harmon| 66|        1.63|       78|       5| Medical Physicist|            PhD|         90|     Delaware|\n",
            "| 12|       Lyndia Spears| 62|        1.88|       41|       1|         Assistant|         Master|         78|       Alaska|\n",
            "| 13|          Page Evans| 35|        1.53|       74|       5|         Paramedic|       Bachelor|         69|     Delaware|\n",
            "| 14|        Telma Hebert| 66|        1.94|       79|       3|       Genealogist|         Master|         75| South Dakota|\n",
            "| 15|      Edelmira Drake| 23|        1.87|       72|       2|           Servant|            PhD|         77| South Dakota|\n",
            "| 16|       Oscar Guthrie| 40|        1.61|       46|       4| Technical Liaison|       Bachelor|         76|    Louisiana|\n",
            "| 17|   Bernardina Strong| 34|        1.55|       78|       1|         Scientist|            PhD|         90| South Dakota|\n",
            "| 18|        Caprice Hart| 64|        1.69|       67|       4|   Market Research|            PhD|         79|    Louisiana|\n",
            "| 19|         Alleen Pace| 25|        1.86|       81|       4|  Medical Supplier|            PhD|         77| South Dakota|\n",
            "+---+--------------------+---+------------+---------+--------+------------------+---------------+-----------+-------------+\n",
            "only showing top 20 rows\n",
            "\n"
          ]
        }
      ]
    },
    {
      "cell_type": "code",
      "metadata": {
        "colab": {
          "base_uri": "https://localhost:8080/"
        },
        "id": "NQyUp2OYZjRM",
        "outputId": "07e901fc-b7a0-4e0c-9cce-124543bda156"
      },
      "source": [
        "# Create a new column called `Salary` where the values are the `Salary (1k)` * 1000\n",
        "# Show the columns `Salary` and `Salary (1k)`\n",
        "df.withColumn('Salary (1k)',df['Salary']*1000).show()\n"
      ],
      "execution_count": null,
      "outputs": [
        {
          "output_type": "stream",
          "name": "stdout",
          "text": [
            "+---+--------------------+---+------------+---------+--------+------------------+---------------+------+-------------+-----------+\n",
            "| id|                name|age|height_meter|weight_kg|children|        occupation|academic_degree|salary|     location|Salary (1k)|\n",
            "+---+--------------------+---+------------+---------+--------+------------------+---------------+------+-------------+-----------+\n",
            "|  0|       Darlena Avila| 58|        1.87|       53|       1|     Choreographer|            PhD|    68| South Dakota|    68000.0|\n",
            "|  1|            Yan Boyd| 65|         1.8|       40|       0|         Cellarman|       Bachelor|    73|     Delaware|    73000.0|\n",
            "|  2|         Joette Lane| 32|         1.8|       73|       1|Veterinary Surgeon|         Master|    69| South Dakota|    69000.0|\n",
            "|  3|        Jazmine Hunt| 61|        1.79|       89|       0|            Hawker|            PhD|    88|    Louisiana|    88000.0|\n",
            "|  4|      Remedios Gomez| 23|        1.64|       51|       2|     Choreographer|       Bachelor|    83|West Virginia|    83000.0|\n",
            "|  5|        Myung Brewer| 20|        1.68|       60|       4|    Window Dresser|       Bachelor|    65| South Dakota|    65000.0|\n",
            "|  6|         Shaun Lynch| 31|        1.56|       62|       0|            Weaver|         Master|    72|    Louisiana|    72000.0|\n",
            "|  7|     Melodi Mcdowell| 56|         1.6|       42|       0| Lighthouse Keeper|         Master|    65|    Louisiana|    65000.0|\n",
            "|  8|Charlesetta Steve...| 30|        1.62|       44|       3|        Millwright|         Master|    87|    Louisiana|    87000.0|\n",
            "|  9|       Merri Charles| 44|        1.69|       51|       5|  Medical Supplier|            PhD|    72|West Virginia|    72000.0|\n",
            "| 10|        Cassi Meyers| 55|        1.82|       72|       5|        Manicurist|       Bachelor|    73| South Dakota|    73000.0|\n",
            "| 11|      Shawnee Harmon| 66|        1.63|       78|       5| Medical Physicist|            PhD|    90|     Delaware|    90000.0|\n",
            "| 12|       Lyndia Spears| 62|        1.88|       41|       1|         Assistant|         Master|    78|       Alaska|    78000.0|\n",
            "| 13|          Page Evans| 35|        1.53|       74|       5|         Paramedic|       Bachelor|    69|     Delaware|    69000.0|\n",
            "| 14|        Telma Hebert| 66|        1.94|       79|       3|       Genealogist|         Master|    75| South Dakota|    75000.0|\n",
            "| 15|      Edelmira Drake| 23|        1.87|       72|       2|           Servant|            PhD|    77| South Dakota|    77000.0|\n",
            "| 16|       Oscar Guthrie| 40|        1.61|       46|       4| Technical Liaison|       Bachelor|    76|    Louisiana|    76000.0|\n",
            "| 17|   Bernardina Strong| 34|        1.55|       78|       1|         Scientist|            PhD|    90| South Dakota|    90000.0|\n",
            "| 18|        Caprice Hart| 64|        1.69|       67|       4|   Market Research|            PhD|    79|    Louisiana|    79000.0|\n",
            "| 19|         Alleen Pace| 25|        1.86|       81|       4|  Medical Supplier|            PhD|    77| South Dakota|    77000.0|\n",
            "+---+--------------------+---+------------+---------+--------+------------------+---------------+------+-------------+-----------+\n",
            "only showing top 20 rows\n",
            "\n"
          ]
        }
      ]
    }
  ]
}